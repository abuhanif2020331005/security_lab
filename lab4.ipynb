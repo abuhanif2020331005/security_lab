{
 "cells": [
  {
   "cell_type": "code",
   "execution_count": 23,
   "id": "57b6aff3",
   "metadata": {},
   "outputs": [
    {
     "name": "stdout",
     "output_type": "stream",
     "text": [
      "Requirement already satisfied: pycryptodome in c:\\users\\dell\\appdata\\local\\programs\\python\\python311\\lib\\site-packages (3.23.0)"
     ]
    },
    {
     "name": "stderr",
     "output_type": "stream",
     "text": [
      "\n",
      "[notice] A new release of pip is available: 23.1.2 -> 25.2\n",
      "[notice] To update, run: python.exe -m pip install --upgrade pip\n"
     ]
    },
    {
     "name": "stdout",
     "output_type": "stream",
     "text": [
      "\n"
     ]
    }
   ],
   "source": [
    "!pip install pycryptodome"
   ]
  },
  {
   "cell_type": "code",
   "execution_count": 51,
   "id": "60bc139e",
   "metadata": {},
   "outputs": [],
   "source": [
    "from Crypto.Cipher import AES,PKCS1_OAEP\n",
    "from Crypto.Util.Padding import pad,unpad\n",
    "from Crypto.Random import get_random_bytes\n",
    "import io\n",
    "import PIL.Image as Image\n",
    "from Crypto.PublicKey import RSA\n",
    "from Crypto.Hash import SHA256\n",
    "from Crypto.Signature import pkcs1_15"
   ]
  },
  {
   "cell_type": "code",
   "execution_count": 25,
   "id": "24b52f01",
   "metadata": {},
   "outputs": [
    {
     "name": "stdout",
     "output_type": "stream",
     "text": [
      "b'\\xff\\xd8\\xff\\xe0\\x00\\x10JFIF\\x00\\x01\\x01\\x00\\x00\\x01\\x00\\x01\\x00\\x00\\xff\\xdb\\x00\\x84\\x00\\t\\x06\\x07\\x08\\x07\\x06\\t\\x08\\x07\\x08\\n\\n\\t\\x0b\\r\\x16\\x0f\\r\\x0c\\x0c\\r\\x1b\\x14\\x15\\x10\\x16 \\x1d\"\" \\x1d\\x1f\\x1f$(4,$&1\\'\\x1f\\x1f-=-157:::#+?D?8C49:7\\x01\\n\\n\\n\\r\\x0c\\r\\x1a\\x0f\\x0f\\x1a7%\\x1f%77777777777777777777777777777777777777777777777777\\xff\\xc0\\x00\\x11\\x08\\x00\\x8a\\x00\\x8a\\x03\\x01\"\\x00\\x02\\x11\\x01\\x03\\x11\\x01\\xff\\xc4\\x00\\x1c\\x00\\x00\\x00\\x07\\x01\\x01\\x00\\x00\\x00\\x00\\x00\\x00\\x00\\x00\\x00\\x00\\x00\\x00\\x01\\x03\\x04\\x05\\x06\\x07\\x02\\x08\\xff\\xc4\\x00D\\x10\\x00\\x02\\x01\\x03\\x02\\x03\\x03\\x07\\t\\x06\\x03\\t\\x01\\x00\\x00\\x00\\x01\\x02\\x03\\x00\\x04\\x11\\x05\\x12\\x06!1\\x13AQ\\x07\"aq\\x81\\x91\\xe1\\x14\\x152BR\\x93\\xa1\\xb1\\xd1Dbr\\x83\\xa3\\xc1\\x17#E3CSTUs\\xa2\\xd2\\xf0\\x16\\xff\\xc4\\x00\\x19\\x01\\x00\\x03\\x01\\x01\\x01\\x00\\x00\\x00\\x00\\x00\\x00\\x00\\x00\\x00\\x00\\x00\\x00\\x01\\x02\\x03\\x04\\x05\\xff\\xc4\\x00#\\x11\\x00\\x02\\x02\\x02\\x01\\x04\\x03\\x01\\x01\\x00\\x00\\x00\\x00\\x00\\x00\\x00\\x00\\x01\\x02\\x11\\x03\\x12\\x04!1AQ\\x13\\x14\"2\\x05\\xff\\xda\\x00\\x0c\\x03\\x01\\x00\\x02\\x11\\x03\\x11\\x00?\\x00\\xdchR\\x17\\xd7pX\\xda\\xc9uu\"\\xc7\\x0cc.\\xed\\xdc+,\\xd5\\xbc\\xb0H\\xb7\\xc6\\x1d\\'LF\\x85N;K\\x96;\\x9b\\xd3\\xb4t\\xf7\\xd4\\xcaj=\\xc0\\xd6\\xa8T?\\x0b\\xeb\\xb1k\\xfah\\xbaU\\xec\\xe5F\\xd94Y\\xce\\xc6\\xc6}\\xd8 \\xd4\\xc54\\xd3\\x00P\\xa2\\xcdVu\\xfe6\\xd2tg0v\\xbf)\\xba\\x1db\\x88\\xe7i\\xfd\\xe6\\xe8??E)IE[\\x02\\xcfE\\x9a\\xcb\\xa5\\xe3\\x9dR\\xf5\\x8fe\"[\\'r\\xc4\\xa0\\x9czI\\xcd\\x1cW\\xb7\\xb7D\\x19\\xafn\\x1f>2\\x9a\\xe3\\x9f?\\x1c{+-A\\xb3P\\xf6P\\xcdg\\xf1D\\xca2\\xb2J\\x1b\\xc7y\\xa5R\\xff\\x00Q\\xb4m\\xd0^\\xca@\\xfa\\x92\\x1d\\xe0\\xfb\\xff\\x00\\xb1\\xa9\\x87\\xfa8\\xe4\\xe9\\xaa\\x07\\x06_(U^\\xc7\\x8b\\xa1$G\\xa9\\xc7\\xd89\\xff\\x00z\\x83)\\xfa\\x8f\\xc6\\xac\\x90O\\x15\\xc4K,\\x12$\\x91\\xb7FF\\xc85\\xdb\\x0c\\x91\\x9a\\xb8\\xb2Z\\xa1J\\x14\\x05\\n\\xb1\\x02\\x85\\n\\x14\\x00(P\\xa1@\\r\\xb5\\x0b\\x0b]J\\xd8\\xdb^\\xc2\\xb2\\xc2H%[\\xc4U/R\\xf2Q\\xc3\\xf7\\x8c\\xcf\\x04\\xd7\\xd6n{\\xe1\\x94\\x11\\xff\\x00\\x905}\\xa1I\\xc5>\\xe0fV\\xbc)\\xc4\\x9c\\x1dr\\xd7\\xba\\x15\\xcaj\\xd0c\\x0fm&#\\x91\\xd7\\xc3\\xc0\\x91\\xdd\\xd0\\xfa\\xfaT\\x85\\xbf\\x95m\\x05\\xa0&\\xe6+\\xc8.\\x10\\x90\\xf04`\\x90\\xc3\\xa8\\xeb\\xf9\\xe2\\xaf\\x83\\xa71\\xce\\xbc\\xfd\\xe5\\x01l\\xa6\\xe3\\x8dM\\xed6\\x85\\xde\\xa2B\\xbd\\x0c\\x81F\\xe3\\xef\\xfcEc\\x96_\\x1cm\\x00\\xff\\x00\\x8a\\xbc\\xa0j\\xba\\xe4\\x8d\\x05\\x935\\x8d\\x81\\xe5\\xb26\\xff\\x002O\\xe2a\\xf9\\x0f\\xc6\\xabV\\x9163\\x8e\\xfaZ\\x08\\xa3\\xe5\\xce\\x9f\\xc1\\x1a*\\xd7\\x9f\\x93+\\x9fr\\x92;\\xb3\\xdc\\x8e\\x14)bGAR\\xd6<K\\xa6-\\xf2\\xd9\\xb4\\x89\\x14\\xf9\\xdb\\x86n\\xfa\\x89#c+G\\x9d\\xd5\\x17qc\\xa1Y\\xea+}~$\\x13\\x03\\xbf\\xb3S\\xc9\\x8d(c\\x84\\xbf\\xa2\\xad\\xa3L\\xb8\\xbe6\\x84,\\xf171\\x90G:k\\xaa\\xebV\\xba}\\xb2Mx\\xcb\\x1a\\xbf\\xd1\\xcbs\\xaa\\xc4\\x1c_\\r\\xec\\xad\\xdb\\'\\xf9g\\x92\\xaf\\x80\\xa5\\xaf\\x13K\\xe25K{\\x96`T\\xf9\\xa4\\x1c\\x1a\\xc1c\\x84e\\xd4\\xbb,6\\xb2[\\xeav\\xcbqn\\xdb\\xe3n\\xf0h\\xa1\\x86[\\tL\\xb6s\\xc9\\x03\\x9ed\\xc6\\xc4g\\xd6:\\x1fm=\\xd0\\xb4\\xab}&\\xc1l\\xec\\xa2`\\x99\\xc9f9$\\xd3\\xb9\\xed\\x8b\\x0c\\x9e\\x95\\x96L\\xcb\\x1c\\xbf,\\xa5\\x06\\xd1-\\xc2<C&\\xa9\\xdbY\\xdf*\\xad\\xe4\\x1c\\xf2\\xbc\\x84\\xa9\\xf6\\x80\\xf1\\xf1\\xf6x\\xd4\\x9e\\xbd\\xaeXh\\x1a{\\xde\\xeas\\x08\\xe3^J\\xbdZF\\xeeU\\x1d\\xe6\\xb2\\xfe!\\xb4\\xbb\\x81R\\xf2\\xc6Y\\xe1\\x99N\\xc0`b\\xaew\\x1cc\"\\xa4\\xb4\\xef%\\xf2j\\x9d\\x9d\\xdf\\x15j\\x17O.9A\\x1c\\xbb\\x99G\\x83;g\\xdc1\\xeb\\xaf_\\x8b\\xc9ya\\xd1u1\\x9cuc\\x17\\xf2\\xb5z51\\x8b\\x18>J\\xc4\\x1e\\xc8\\xe7~\\xdf\\xe2\\xce3\\xec\\xc5j\\xbam\\xec\\x1a\\x8d\\x8c7\\x96\\x8e\\x1e\\t\\x97r7\\xff\\x00w\\xd5\\x1e_%\\x1aP\\x97\\xb4\\xb5\\xbe\\xbcLtIv\\xc8\\x07\\xe0\\x0f\\xe3V\\x8e\\x18\\xd0\\xbe`\\xb3\\x92\\xd5nZty7\\x8c\\xae\\xd0\\x9c\\x87 =\\x99\\xae\\x98\\xef}H&hP\\xa1Z\\x00(P\\xa1@\\x10\\xfc]\\xaa\\xb6\\x8b\\xc3\\xb7\\xd7\\xf1\\x80e\\x8e<F\\x0f\\xdbc\\xb4~&\\xbc\\xe8\\x8a\\xf9,\\xc5\\x99\\x89\\xcb3\\x1ed\\xf8\\x9a\\xd7|\\xb4jk\\x06\\x8dg\\xa7\\x83\\xe7\\xdc\\xcd\\xbd\\x87\\xee \\xff\\x00\\xd8\\xadd\\xb1\\xca\\x00\\xe6k\\x83\\x95/\\xd5\\r\\x0e\\xedC\\x123\\xe3Rh\\xa4-F[\\xcc\\xbb\\xc0\\xcdJ\\xc6\\xc1\\x93\\x91\\xae&R\\x14\\x85r\\xd8\\'\\x15\\x1d\\xa8\\xf0]\\xde\\xa5p\\xd3\\x0b\\x95 \\xf4\\x04\\xf4\\xa9\\x05\\xc8\"\\xacZ[\\x92\\x00n\\x95\\x0f3\\xc7\\xd8\\xb5\\x1b(\\x10\\xf0n\\xab\\x04\\xdb\\x15r\\xb9\\xc0l\\xd5\\x82\\xc3\\x81\\xf55\\x91\\x19\\xae\\xc2\\x81\\xcf\\x91\\xab\\x9a\\x91\\xe3N\\xe0\\xe4\\xbdMa>L\\xe4k\\x18!}6\\xd9\\xed\\xad\\xd29$.\\xc3\\xeb\\x1as/%\\xe9I\\xc6\\xfc\\xb9\\xd1M(*EqM\\xf97J\\x84%\\xdb*\\x18\\xddr\\xa7\\x97J\\xb6i3\\xb5\\xc5\\x842Hr\\xf8\\xc3\\x1fH85N/\\xe0j\\xcb\\xc32\\xef\\xb5\\x99>\\xc4\\x9c\\xbd\\xa0\\x1a\\xf5\\x7f\\xc8\\xc9\\xfaq9\\xb3\\xaf$\\xc5\\n\\x06\\x85{\\xc70(P\\xa1@\\x05\\x9a\\x8f\\xd6u\\xbd7E\\xb5{\\x8dJ\\xee8QFpNY\\xbd\\x01G2k3\\xf2\\xaf\\xc5\\xb3\\xbe\\xa44\\r.\\xeaHV\\x00\\x1a\\xeeH\\\\\\xab3\\x11\\x90\\x99\\x1c\\xf0\\x01\\x04\\xf8\\xe4xVb\\xeb\\xb5\\x8b\\xb77n\\xacy\\x93\\xeb5\\x8eL\\xba\\x81+\\xc5\\xfcE?\\x12\\xebr\\xea\\x13!\\x8e0\\x04pDN{4\\x1d\\x07\\xaf$\\x93P\\xdd\\xa1\\xa2a\\x9a\\xe4\\x8c\\x8a\\xe1\\x93\\xd9\\xdb\\x01ApP\\x83N\\xe1\\xd6\\x9e.\\x9c\\xfdu\\x12\\xe4\\xf4\\xa4\\xc9\\xa3D\\xc7e\\x92\\xdf\\\\28\\xdc\\xe8\\x9f\\xc5S\\xf6z\\xb6@\\x0by\\n\\xfb+<\\xddKF_\\xaa\\xb1\\x1e\\xda\\xca|u#H\\xce\\x8dF-Fs\\xf4n-\\xdf\\xf0\\xa9\\x085+\\xac\\x8f:\\xd7\\x1e\\xba\\xca\\xa2\\x9au\\x1c\\xa4o}:\\x8e\\xea\\xe3\\xfe+{\\xeb\\x9d\\xf1K\\xf9\\rz\\x1dI\\x00\\x1d\\xbbB=*\\xd4\\xd2\\xf7X\\xb7\\x12b\\x197\\x0f\\x1a\\xcc\\x92\\xeel\\xe1\\xa4b=t\\xfa\\x1b\\xc5E\\x05\\x9cg\\xd7Y>++\\xe5/K\\xa9\\xa9\\xc1\\'\\xf0\\xabw\\x03\\\\\\xc7ucu*:\\x93\\xdb\\xed \\x1e\\x98QYe\\x9c\\x8dw\\x1bvm\\xb5@9o\\x1a\\x80\\xb1\\xd75n\\x1c\\xd5.\\xd3K\\xbe\\x96!!\\xf3\\xf1\\x82\\x1b\\xc3 \\xf7\\xfak\\xb3\\x85\\x05\\x8avg7\\xb1\\xe9l\\xd0\\xc8\\xaf9E\\xc7\\xdcTff\\xf9\\xee\\\\w+*~[j\\xc3\\xa2\\xf9T\\xd6\\xec]WV\\x86;\\xf8\\x0f\\xd6\\x00G \\xf5\\x11\\xc8\\xfbG\\xb6\\xbdE\\x9a&z\\xb3m\\xa1Q\\xfa\\x1e\\xafk\\xaeip\\xea\\x16.Z\\x19A\\xc0#\\x05H8 \\x8f\\x10jB\\xb6$\\xf2L7\\xf3\\xea73\\xdc\\\\K\\xbe\\xeaY\\x1aWc\\xf5\\x99\\x8eM;\\x13+\\x8d\\xad\\x80\\xdd\\xf5X\\x86FV\\x18$c\\xc2\\xa6\\xedo!\\xb8A\\x1c\\xc3k\\xf75sN\\x1b\\x00\\xed\\xd3\\x15\\xc6)N\\xcaE\\xe6\\xa7z\\xd1\\x16\\x04\\xed`W>\"\\xb0\\x966\\xbb\\x00\\x8b\\xc6\\x18R\\r\\x07\\xa74\\xf8\\xa6\\x067)\\xa4\\x98\\x1a\\x95h\\x06]\\x91\\x1c\\xeb\\xb5fZT\\x83\\xe0h\\xb6\\x9f\\x03U`\\x01p\\xe3\\xa0\\x14\\x7f*\\x93\\xc0W%\\x0e+\\x91\\x1b\\xb9\\xc2)c\\xe0(\\x00\\x1b\\x99\\x8fR*CI\\xd3\\xaeu\\x19\\x01v+\\x08\\xeaM<\\xd2\\xb4\\x16|Kz\\n/P\\xb8\\xe6j\\xdfaa$\\xb0\\x1d\\xb1\\xa4\\x16\\xb1\\x81\\x92\\xdc\\x89\\xac\\xe5/\\x05$F\\xc9:YZ\\xf6\\x16\\xc4\\x08\\xd1y\\x9f\\x1a\\xa6\\xce\\xed,\\xaf.\\xec\\xb3\\x1e\\x955\\xc5\\x1a\\x95\\xb6\\xff\\x00\\x91Y\\xb11)\\xcbH;\\xcdV\\x0b\\xf6\\xd2n\\nN\\x0e0\\x9c\\x8d^(\\xba\\xb6X\\xe9$tfWP\\xc5\\x87@)u\\x92V D9c\\xa1\\x14\\x84P\\xb4\\xf1\\xef\\x0e\\xdb\\xd4\\xf5=Es\\xbd\\xd5\\xc8rwc\\xb8\\xe2\\xb4h\\rg\\xc8\\x8e\\xb1#\\xde\\xdf\\xe9r\\xb6\\x15\\xd0N\\x89\\x9e@\\x82\\x15\\xb1\\xef_uk\\xb9\\xaf4\\xf9<\\xd4\\xfek\\xe3-*~\\xd3\\x11\\xc98\\x82N}\\xcf\\xe6\\xfedW\\xa5\\xab\\xa3\\x0f\\xf2g.\\xe7\\x8a\\xd3$\\x1d\\xddh\\xfc\\xee\\xa0\\xe2\\x8f\\x074e\\xbb\\x88\\xa6H\\xe6\\xd3P\\xba\\xb7\\x01RBG\\x81\\xa7\\xb1\\xea\\xf9\\xe5,a\\x85Du\\xe5\\x8cW`/b\\xc9\\xb5K\\x1f\\xaf\\xe1Hd\\xd4w\\x96S6\\x1ftD\\xf7\\xe6\\x9e-\\xb1t\\xdc\\x92\\xb1^\\xecUb\\x1bc$\\x8a\\x88X\\x968\\xe5R\\x055\\x0b)\\x92\\xde\\xde\\xe9\\xe4c\\xf5B\\xf2\\x14j\\x80\\x956\\x92u\\xed\\x0f\\xb6\\x8dmgc\\xcb\\x9f\\xa8Tu\\xc5\\xbe\\xb2Nf\\x91\\x82\\x0e\\xa5OOeIC\\xa0\\xcb-\\xb0\\x9du\\xf8\\xf0Fv\\xaa6\\x7f:\\x97\\x18\\x80\\xfa\\xdfFu\\x02[\\xe9R$\\xeb\\x97`)\\xe2_\\xe9\\x16h\\xa1f\\x12\\x9c\\xf3\\x11\\xaf\\xf7\\xaa\\xb5\\xd6\\x9b{\\x1f\\xd2\\xbci\\xd7\\xd2O/y\\xa6\\xe9k\\x87\\x06i\\tA\\xd4\\x0eU\\x0e\\x08\\xa4]%\\xe2\\xebtm\\xb6\\x96cx\\x18\\x0c\\xcdP\\xba\\x8f\\x10jW\\xd1\\xbaI+\\xf6=\\xc8\\x0e\\x02\\xd4$\\xd0 \\x93\\x11o\\x0b\\xe0\\xc7&\\xba!\\x95X\\x00\\xde\\xbd\\xd5?\\x1aE\\x1d3\\xb3\\x8d\\xc6m\\x92\\x0e\\xe2\\xbfJ\\x93\\x12\\xbcx\\xf3\\xb0\\xc3\\xa1\\x02\\x81\\'o\\x9f\\xbb\\x1e&\\x8b`#;7z|*\\x92\\x10\\xa4R\\x03\\x11c,\\x8a\\xe4\\xf9\\xc063\\\\J\\xc3!\\xb7\\xb8o\\x06\\x19\\xcd\\x16\\xd2\\x00\\xdc\\x08_\\x10r}\\xd4\\x19F2\\x8d\\x91\\xe9Zt3\\xa9dx\\xd5f\\x89\\xb6L\\x844l9`\\x8e`\\xfb\\xeb\\xd6Z^\\xa7o}\\xa6Z^\\t\\x14\\x0b\\x88\\x12P3\\xf6\\x94\\x1f\\xef^GY[\\x9a\\xbe\\xc6\\xc7N\\\\\\xea\\xc5i\\xc6\\xda\\xc5\\xa5\\xa46\\xd0\\xce\\x04p\\xc6\\xb1\\xa0\\xf0\\x00`U\\xc5\\xd1,\\xa9\\x92Gu\\x00\\t\\xee5t]\\x1fOo\\xd9\\xd7\\xdeh|\\xcd\\xa7\\xa9\\xe5n=\\xa4\\xd5Q%9\\x17\\xce\\x19\\xe6\\x07u=)\\x14\\xdb\\x168\\x119r\\n\\xd9,j\\xcb\\x1e\\x95j\\x0e\\xd8\\xad\\x93\\'\\xf7sS\\xba^\\x86\\x91*\\xb9\\xb7\\x8c\\x1e\\xa0l\\x19\\xf7\\xd4JZ\\x8d\"?\\x86xa\\x9e5\\x96eT\\xdc3\\x96\\x1c\\xc5X_\\x86-{#\\xb2c\\xbf\\x18\\xcfu;\\x86\\xda\\\\\\xf28\\x03\\xa0\\xcd:6\\xf3c\\xcd\\xcf\\xbe\\xb0y\\n\\xd4\\xaaY[\\xc5\\x05\\xe1\\xb6\\xbc\\x84>\\xe3\\x8c\\x9a\\xb0\\xd8p\\xc6\\x95o3M\\x0cdn\\xfa\\x85\\xf2\\xa3\\xd4+\\xa7\\xb1\\x93v\\xfe\\xcb,;\\xc8\\xaeZk\\xa4;B\\xb8\\xf6T\\xb9\\x8e\\x88n&\\xd2c\\xb5\\x970\\xa6#n\\xef\\n\\xa4\\xdd[\\xaaL\\xd1\\xbbm\\xef\\\\\\xf7\\xd5\\xe7\\x88\\xa6\\x9c\\xdb.\\xf0\\xde\\xb2*\\xa1y\\x02\\xdc\\xa0\\x0f\\xb80\\xe8\\xc0\\xf3\\xad\\xa0\\xed\\x12\\xc6\\x12,8\\x066%\\xbb\\xc3RL\\x14\\xf2c\\x9fm::q\\x0b\\xe6L\\xfe\\xd1I6\\x9d(L\\x89U\\xdb\\xec\\x91\\x8a\\xaa\\x0b\\x12\\xdb\\x18\\x18\\xda\\xa7\\x97y\\xa0\\xaa\\x0f,\\x10=\\x06\\x87\\xc9.\\xd4\\x7f\\xb3\\x18>\\x0f@\\xc3v\\t\\xda\\x99\\xcf\\xef\\xf4\\xa2\\x87a\\xb6W*\\x08\\xc7\\xa4R\\x12\\x9e\\\\\\xb0\\x0f\\xa0b\\x83I$l\\xc9p\\xac\\xa7\\x1c\\x8e9W#\\xcf\\x1b\\x81\\xdc\\x0f\\x85\\x14\\xc5c~[\\xb9\\x92sK\\x84\\\\\\x0f6\\x89\\xc6\\xd5<\\xb9\\xd7\\x1d\\xa3U\\xa12\\xf7o\\x04\\xb2\\xb0\\x11\\x82s\\xe8\\xa9H\\xf4\\x1b\\x89@-0Oe\\x1cs,c\\nF)\\xdc7\\xdd\\x06\\xea\\x897\\xe0\\x10\\xefL\\xd1\\xa3\\xb5\\xc31\\x0e\\xc0}*|ba\\xdf\\xec\\xa6\\xf0\\xde\\r\\xbdh\\x8d\\xd3\\xb3r\\xaei\\xdbf\\x88s\\x0c9\\x93.\\xc4c\\xa7:\\x90\\x84\\xa69\\x10qQa\\xd9\\xba\\x8f\\xc6\\x9e\\xd9\\xa4`e\\xb9\\x13X\\xb42A1\\x8e\\xf3\\xe8\\xae\\x18\\x06>tB\\x8d$Lb\\xba\\xdc\\x87\\xb8R\\xea17\\xb5\\xb7\\x99\\nI\\x1a8\\xf0#4\\xca^\\x1f\\xd3\\x9f\\x91\\xb7A\\xea\\xa7\\xc4\\x87\\x18\\x03\\x15\\xdcJ\\xea\\xbc\\xf9\\xe2\\xa7i\\x05\\rb\\xd0l\\xd22\\x8bl\\xa0zFsL.8N\\xc6C\\xbb\\xb2\\xc7\\xa0T\\xf0\\xbb \\xe0\\x83KE1~\\x8a3F\\xf2^B\\x91I\\xb9\\xe0\\xeb|\\xe4\\x17\\\\\\xf8T>\\xa1\\xc2rD\\xa5\\xad\\xdc\\x8cw5iw1o\\x03\\x97\\x9dLe\\x81I\\x0b$|\\xebE\\x9eK\\xb8\\xb5F5ya5\\xbb\\x15\\xb9Lc\\xc4d\\x1aa=\\xac,7 \\xda}\\x07\\x15\\xb6\\xdc\\xe90\\xb2\\xf9\\xd0\\xa3\\x0f\\x02*\\x0fR\\xe1\\xfd6\\xe56\\xc9l\\x17\\x1fc\\x91\\xae\\x88\\xf2\\x13!\\xc4\\xc5\\xe4\\x95\\x84\\xae\\x8eI\\xc7L\\xd0\\x05\\x88\\x07\\x02\\x9e\\xdf\\xdb\\xac\\x17\\xf3\\xc6\\xa9\\x85W g\\xad#]\\t\\xd9\\x07\\xa1O\\x93\\x18O\\xfa\\xb4\\xbfp?Z%\\xf2a\\x12\\x9c\\x8dbo\\xb9\\x1f\\xadhT+Z@Q\\xa3\\xf2x\\xa805i\\x0f\\xae\\x01\\xfa\\xd1\\xff\\x00\\x87\\xcb\\x9c\\xfc\\xed\\'\\xb2\\x11\\xfa\\xd5\\xe2\\x85N\\x91~\\x07e=8 \\xaf\\xfa\\xa3\\x9f\\\\\\x03\\xf5\\xa5\\x97\\x83\\xf0\\x06u\\x07?\\xca\\xf8\\xd5\\xaa\\x85\\'\\x8a\\x1e\\x82\\xd9Y\\x1c&\\x07\\xed\\xcd\\xf7\\x7f\\x1a\\xe9x[oK\\xd3\\xf7_\\x1a\\xb1\\xd0\\x14\\xbe\\x1c~\\x83f@\\xaf\\x0ec\\xad\\xe1?\\xcb\\xf8\\xd2\\xa3A\\xc7\\xed?\\xd3\\xf8\\xd4\\xd5\\x15/\\xaf\\x8f\\xd0l\\xc8C\\xc3\\xaaNM\\xc7\\xf4\\xfe4\\x07\\x0f\\xed\\xfa7X\\xfe_\\xc6\\xa6\\xe8\\xe8\\xfa\\xf8\\xbd\\x06\\xcc\\x84\\xf9\\x80\\xff\\x00\\xcd\\x9f\\xbb\\xf8\\xd7?\\xfe{\\xce\\xdcn\\xb2\\x7f\\xed\\xfcjr\\x85/\\xad\\x8b\\xd0\\xf6d9\\xd0\\xb21\\xf2\\x9f\\xe9\\xfci\\xad\\xc7\\n\\xa4\\xc4\\x9f\\x95\\x95\\xcf\\x84\\x7f\\x1a\\xb1\\n:k\\x8f\\x8dx\\r\\x99\\x95_y\\x16\\xb4\\xbc\\xb8y\\x9b]\\xbaB\\xed\\x92\\x16\\x05\\xfdi\\xbf\\xf8\\x19e\\xff\\x00_\\xbb\\xfb\\x84\\xadv\\x85h\\xa2\\x91\\'\\xff\\xd9'\n"
     ]
    }
   ],
   "source": [
    "with open('testImage.jpeg','rb') as Imagefile:\n",
    "      img=Imagefile.read()\n",
    "      print(img)"
   ]
  },
  {
   "cell_type": "code",
   "execution_count": 30,
   "id": "9024867c",
   "metadata": {},
   "outputs": [],
   "source": [
    "def aes_encrypt(key,mode,type,iv=False):\n",
    "    iv_=''\n",
    "    if(type=='ecb'):\n",
    "     cipher=AES.new(key,mode)\n",
    "     padded=pad(img,AES.block_size)\n",
    "     ciphertext=cipher.encrypt(padded)\n",
    "     if(iv):print(cipher.iv)\n",
    "     return ciphertext,iv_\n",
    "    else:\n",
    "       cipher=AES.new(key,mode)\n",
    "       ciphertext=cipher.encrypt(img)\n",
    "       iv_=cipher.iv\n",
    "       return ciphertext,iv_"
   ]
  },
  {
   "cell_type": "code",
   "execution_count": 31,
   "id": "1a270c4e",
   "metadata": {},
   "outputs": [],
   "source": [
    "def aes_decrypt(ciphertext,key,mode,type,iv_,iv=False):\n",
    "      if(type=='ecb'):\n",
    "            cipher=AES.new(key,mode)\n",
    "            plainpadded=cipher.decrypt(ciphertext)\n",
    "            plaintext=unpad(plainpadded,AES.block_size)\n",
    "            if (iv):\n",
    "                  print(cipher.iv)\n",
    "            return plaintext\n",
    "      else:\n",
    "            cipher=AES.new(key,mode,iv=iv_)\n",
    "            plaintext=cipher.decrypt(ciphertext)\n",
    "            return plaintext"
   ]
  },
  {
   "cell_type": "code",
   "execution_count": 39,
   "id": "6f69542d",
   "metadata": {},
   "outputs": [],
   "source": [
    "def RSA_en(publickey):\n",
    "    text=(b'this is my first text file')\n",
    "    cipher=PKCS1_OAEP.new(publickey)\n",
    "    ciphertext=cipher.encrypt(text)\n",
    "    return ciphertext\n",
    "def RSA_de(keypair,ciphertext):\n",
    "     cipher=PKCS1_OAEP.new(keypair)\n",
    "     plain=cipher.decrypt(ciphertext)\n",
    "     return plain\n",
    "    "
   ]
  },
  {
   "cell_type": "code",
   "execution_count": 49,
   "id": "a8dc529c",
   "metadata": {},
   "outputs": [],
   "source": [
    "def hashing():\n",
    "    hash=SHA256.new(img)\n",
    "    return hash.hexdigest()"
   ]
  },
  {
   "cell_type": "code",
   "execution_count": 53,
   "id": "6c33a120",
   "metadata": {},
   "outputs": [],
   "source": [
    "key1=get_random_bytes(16)\n",
    "key2=get_random_bytes(32)\n",
    "ciphertext,iv=aes_encrypt(key1,AES.MODE_ECB,type='ecb')\n",
    "ciphertext1,iv=aes_encrypt(key1,AES.MODE_CFB,type='cfb')\n",
    "ciphertext2,iv1=aes_encrypt(key2,AES.MODE_CFB,type='cfb')\n",
    "keypair=RSA.generate(2048)\n",
    "publickey=keypair.public_key()\n"
   ]
  },
  {
   "cell_type": "code",
   "execution_count": 59,
   "id": "03ed1144",
   "metadata": {},
   "outputs": [],
   "source": [
    "def RSA_sign():\n",
    "    with open('1.text','rb') as f:\n",
    "        text=f.read()\n",
    "        print(text)\n",
    "    hash=SHA256.new(text)\n",
    "    signature=pkcs1_15.new(keypair).sign(hash) \n",
    "    with open('2.sig','wb') as f:\n",
    "        f.write(signature)  \n",
    "    return 1    "
   ]
  },
  {
   "cell_type": "code",
   "execution_count": 62,
   "id": "b593acec",
   "metadata": {},
   "outputs": [],
   "source": [
    "def RSA_sign_verify():\n",
    "        with open('1.text', 'rb') as f:\n",
    "         message = f.read()\n",
    "\n",
    "        with open('2.sig', 'rb') as f:\n",
    "         signature = f.read()\n",
    "\n",
    "    # Hash and verify\n",
    "        hash = SHA256.new(message)\n",
    "        try:\n",
    "          pkcs1_15.new(publickey).verify(hash, signature)\n",
    "          print(\"✅ Signature is valid.\")\n",
    "        except ValueError:\n",
    "         print(\"❌ Signature is invalid.\")"
   ]
  },
  {
   "cell_type": "code",
   "execution_count": 63,
   "id": "b927d998",
   "metadata": {},
   "outputs": [
    {
     "name": "stdout",
     "output_type": "stream",
     "text": [
      "✅ Signature is valid.\n"
     ]
    }
   ],
   "source": [
    "RSA_sign_verify()"
   ]
  },
  {
   "cell_type": "code",
   "execution_count": 50,
   "id": "0e31658a",
   "metadata": {},
   "outputs": [
    {
     "name": "stdout",
     "output_type": "stream",
     "text": [
      "select mode of operation\n",
      "1.aes encryption decryption\n",
      "2.RSA encrytion decryption\n",
      "3.RSA signature\n",
      "4.hashing\n",
      "9b3399764f1f730802ccd51a7e5bfe008f03cc5d4c01eb113748d5d4736d1613\n",
      "select mode of operation\n",
      "1.aes encryption decryption\n",
      "2.RSA encrytion decryption\n",
      "3.RSA signature\n",
      "4.hashing\n"
     ]
    },
    {
     "ename": "ValueError",
     "evalue": "invalid literal for int() with base 10: ''",
     "output_type": "error",
     "traceback": [
      "\u001b[1;31m---------------------------------------------------------------------------\u001b[0m",
      "\u001b[1;31mValueError\u001b[0m                                Traceback (most recent call last)",
      "Cell \u001b[1;32mIn[50], line 3\u001b[0m\n\u001b[0;32m      1\u001b[0m \u001b[38;5;28;01mwhile\u001b[39;00m(\u001b[38;5;241m1\u001b[39m):\n\u001b[0;32m      2\u001b[0m     \u001b[38;5;28mprint\u001b[39m(\u001b[38;5;124m\"\u001b[39m\u001b[38;5;124mselect mode of operation\u001b[39m\u001b[38;5;130;01m\\n\u001b[39;00m\u001b[38;5;124m1.aes encryption decryption\u001b[39m\u001b[38;5;130;01m\\n\u001b[39;00m\u001b[38;5;124m2.RSA encrytion decryption\u001b[39m\u001b[38;5;130;01m\\n\u001b[39;00m\u001b[38;5;124m3.RSA signature\u001b[39m\u001b[38;5;130;01m\\n\u001b[39;00m\u001b[38;5;124m4.hashing\u001b[39m\u001b[38;5;124m\"\u001b[39m)\n\u001b[1;32m----> 3\u001b[0m     n\u001b[38;5;241m=\u001b[39m\u001b[38;5;28;43mint\u001b[39;49m\u001b[43m(\u001b[49m\u001b[38;5;28;43minput\u001b[39;49m\u001b[43m(\u001b[49m\u001b[43m)\u001b[49m\u001b[43m)\u001b[49m\n\u001b[0;32m      4\u001b[0m     \u001b[38;5;28;01mif\u001b[39;00m(n\u001b[38;5;241m==\u001b[39m\u001b[38;5;241m1\u001b[39m):\n\u001b[0;32m      5\u001b[0m         \u001b[38;5;28mprint\u001b[39m(\u001b[38;5;124m\"\u001b[39m\u001b[38;5;124m1.ecb\u001b[39m\u001b[38;5;130;01m\\n\u001b[39;00m\u001b[38;5;124m2.cfb\u001b[39m\u001b[38;5;124m\"\u001b[39m)\n",
      "\u001b[1;31mValueError\u001b[0m: invalid literal for int() with base 10: ''"
     ]
    }
   ],
   "source": [
    "while(1):\n",
    "    print(\"select mode of operation\\n1.aes encryption decryption\\n2.RSA encrytion decryption\\n3.RSA signature\\n4.hashing\")\n",
    "    n=int(input())\n",
    "    if(n==1):\n",
    "        print(\"1.ecb\\n2.cfb\")\n",
    "        l=int(input())\n",
    "        if(l==1):\n",
    "            print(\"1.encryption 2.decryption\")\n",
    "            k=int(input())\n",
    "            if(k==1):\n",
    "              print(\"1.16\\n2.32\")\n",
    "              m=int(input())\n",
    "              if(m==1):\n",
    "                  ciphertext,iv_=aes_encrypt(key1,AES.MODE_ECB,type='ecb')\n",
    "                  print(ciphertext)\n",
    "              elif (m==2):\n",
    "                      \n",
    "                 ciphertext,iv_=aes_encrypt(key2,AES.MODE_ECB,type='ecb')\n",
    "                 print(ciphertext)\n",
    "              else:\n",
    "                  print(\"provide a valid value\")\n",
    "                  continue\n",
    "            elif(k==2):\n",
    "             print(\"1.16\\n2.32\")   \n",
    "             m=int(input())\n",
    "             if(m==1):\n",
    "               plaintext=aes_decrypt(ciphertext,key1,AES.MODE_ECB,iv_=iv,type=\n",
    "                                     'ecb')      \n",
    "               image1 = Image.open(io.BytesIO(plaintext))\n",
    "               image1.save(\"decryptImg_ecb16.png\")\n",
    "             elif (m==2):\n",
    "                  plaintext=aes_decrypt(ciphertext,key1,AES.MODE_ECB,iv_=iv,type=\n",
    "                                     'ecb')      \n",
    "                  image1 = Image.open(io.BytesIO(plaintext))\n",
    "                  image1.save(\"decryptImg_ecb32.png\") \n",
    "             else:\n",
    "                print(\"provide an valid value\")\n",
    "                continue\n",
    "        elif (l==2):\n",
    "           print(\"1.encryption\\n2.decryption\")\n",
    "           k=int(input())\n",
    "           if(k==1):\n",
    "              print(\"1.16\\n2.32\")\n",
    "              m=int(input())\n",
    "              if(m==1):\n",
    "               ciphertext=aes_encrypt(key1,AES.MODE_CFB,type='cfb')  \n",
    "               print(ciphertext)\n",
    "           elif (k==2):\n",
    "              print(\"1.16\\n2.32\")\n",
    "              m=int(input())\n",
    "              if(m==1):\n",
    "               plaintext=aes_decrypt(ciphertext1,key1,AES.MODE_CFB,type='cfb',iv_=iv)  \n",
    "               image1=Image.open(io.BytesIO(plaintext))\n",
    "               image1.save(\"decryptImg_cfb16.png\")\n",
    "              elif (m==2): \n",
    "               plaintext=aes_decrypt(ciphertext2,key2,AES.MODE_CFB,type='cfb',iv_=iv1)  \n",
    "               image1=Image.open(io.BytesIO(plaintext))\n",
    "               image1.save(\"decryptImg_cfb32.png\")\n",
    "    elif (n==2):\n",
    "       print(\"1.encryption\\n2.decryption\")\n",
    "       k=int(input())\n",
    "       if(k==1):\n",
    "          ciphertext=RSA_en(publickey=publickey)\n",
    "          print(ciphertext) \n",
    "       elif (k==2):\n",
    "           plaintext=RSA_de(keypair,ciphertext) \n",
    "           print(plaintext)   \n",
    "    elif (n==3):\n",
    "        print(hashing())              "
   ]
  }
 ],
 "metadata": {
  "kernelspec": {
   "display_name": "Python 3",
   "language": "python",
   "name": "python3"
  },
  "language_info": {
   "codemirror_mode": {
    "name": "ipython",
    "version": 3
   },
   "file_extension": ".py",
   "mimetype": "text/x-python",
   "name": "python",
   "nbconvert_exporter": "python",
   "pygments_lexer": "ipython3",
   "version": "3.11.4"
  }
 },
 "nbformat": 4,
 "nbformat_minor": 5
}
